{
  "nbformat": 4,
  "nbformat_minor": 0,
  "metadata": {
    "colab": {
      "name": "financial-fraud-detection.ipynb",
      "provenance": [],
      "collapsed_sections": [],
      "authorship_tag": "ABX9TyMDkSrBXRp5ZfrDjsl2xrxL",
      "include_colab_link": true
    },
    "kernelspec": {
      "name": "python3",
      "display_name": "Python 3"
    },
    "language_info": {
      "name": "python"
    }
  },
  "cells": [
    {
      "cell_type": "markdown",
      "metadata": {
        "id": "view-in-github",
        "colab_type": "text"
      },
      "source": [
        "<a href=\"https://colab.research.google.com/github/apeksha-agase/financial-fraud-detection/blob/main/financial_fraud_detection.ipynb\" target=\"_parent\"><img src=\"https://colab.research.google.com/assets/colab-badge.svg\" alt=\"Open In Colab\"/></a>"
      ]
    },
    {
      "cell_type": "code",
      "execution_count": null,
      "metadata": {
        "colab": {
          "base_uri": "https://localhost:8080/",
          "height": 427
        },
        "id": "m7tHHQmkA6_r",
        "outputId": "f8ca0a65-9c87-4fbd-f277-bec5158e6848"
      },
      "outputs": [
        {
          "output_type": "execute_result",
          "data": {
            "text/plain": [
              "   step      type    amount     nameOrig  oldbalanceOrg  newbalanceOrig  \\\n",
              "0     1   PAYMENT   9839.64  C1231006815      170136.00       160296.36   \n",
              "1     1   PAYMENT   1864.28  C1666544295       21249.00        19384.72   \n",
              "2     1  TRANSFER    181.00  C1305486145         181.00            0.00   \n",
              "3     1  CASH_OUT    181.00   C840083671         181.00            0.00   \n",
              "4     1   PAYMENT  11668.14  C2048537720       41554.00        29885.86   \n",
              "5     1   PAYMENT   7817.71    C90045638       53860.00        46042.29   \n",
              "6     1   PAYMENT   7107.77   C154988899      183195.00       176087.23   \n",
              "7     1   PAYMENT   7861.64  C1912850431      176087.23       168225.59   \n",
              "8     1   PAYMENT   4024.36  C1265012928        2671.00            0.00   \n",
              "9     1     DEBIT   5337.77   C712410124       41720.00        36382.23   \n",
              "\n",
              "      nameDest  oldbalanceDest  newbalanceDest  isFraud  isFlaggedFraud  \n",
              "0  M1979787155             0.0            0.00      0.0             0.0  \n",
              "1  M2044282225             0.0            0.00      0.0             0.0  \n",
              "2   C553264065             0.0            0.00      1.0             0.0  \n",
              "3    C38997010         21182.0            0.00      1.0             0.0  \n",
              "4  M1230701703             0.0            0.00      0.0             0.0  \n",
              "5   M573487274             0.0            0.00      0.0             0.0  \n",
              "6   M408069119             0.0            0.00      0.0             0.0  \n",
              "7   M633326333             0.0            0.00      0.0             0.0  \n",
              "8  M1176932104             0.0            0.00      0.0             0.0  \n",
              "9   C195600860         41898.0        40348.79      0.0             0.0  "
            ],
            "text/html": [
              "\n",
              "  <div id=\"df-4c9e910e-d62a-4533-8e37-167e87c613c9\">\n",
              "    <div class=\"colab-df-container\">\n",
              "      <div>\n",
              "<style scoped>\n",
              "    .dataframe tbody tr th:only-of-type {\n",
              "        vertical-align: middle;\n",
              "    }\n",
              "\n",
              "    .dataframe tbody tr th {\n",
              "        vertical-align: top;\n",
              "    }\n",
              "\n",
              "    .dataframe thead th {\n",
              "        text-align: right;\n",
              "    }\n",
              "</style>\n",
              "<table border=\"1\" class=\"dataframe\">\n",
              "  <thead>\n",
              "    <tr style=\"text-align: right;\">\n",
              "      <th></th>\n",
              "      <th>step</th>\n",
              "      <th>type</th>\n",
              "      <th>amount</th>\n",
              "      <th>nameOrig</th>\n",
              "      <th>oldbalanceOrg</th>\n",
              "      <th>newbalanceOrig</th>\n",
              "      <th>nameDest</th>\n",
              "      <th>oldbalanceDest</th>\n",
              "      <th>newbalanceDest</th>\n",
              "      <th>isFraud</th>\n",
              "      <th>isFlaggedFraud</th>\n",
              "    </tr>\n",
              "  </thead>\n",
              "  <tbody>\n",
              "    <tr>\n",
              "      <th>0</th>\n",
              "      <td>1</td>\n",
              "      <td>PAYMENT</td>\n",
              "      <td>9839.64</td>\n",
              "      <td>C1231006815</td>\n",
              "      <td>170136.00</td>\n",
              "      <td>160296.36</td>\n",
              "      <td>M1979787155</td>\n",
              "      <td>0.0</td>\n",
              "      <td>0.00</td>\n",
              "      <td>0.0</td>\n",
              "      <td>0.0</td>\n",
              "    </tr>\n",
              "    <tr>\n",
              "      <th>1</th>\n",
              "      <td>1</td>\n",
              "      <td>PAYMENT</td>\n",
              "      <td>1864.28</td>\n",
              "      <td>C1666544295</td>\n",
              "      <td>21249.00</td>\n",
              "      <td>19384.72</td>\n",
              "      <td>M2044282225</td>\n",
              "      <td>0.0</td>\n",
              "      <td>0.00</td>\n",
              "      <td>0.0</td>\n",
              "      <td>0.0</td>\n",
              "    </tr>\n",
              "    <tr>\n",
              "      <th>2</th>\n",
              "      <td>1</td>\n",
              "      <td>TRANSFER</td>\n",
              "      <td>181.00</td>\n",
              "      <td>C1305486145</td>\n",
              "      <td>181.00</td>\n",
              "      <td>0.00</td>\n",
              "      <td>C553264065</td>\n",
              "      <td>0.0</td>\n",
              "      <td>0.00</td>\n",
              "      <td>1.0</td>\n",
              "      <td>0.0</td>\n",
              "    </tr>\n",
              "    <tr>\n",
              "      <th>3</th>\n",
              "      <td>1</td>\n",
              "      <td>CASH_OUT</td>\n",
              "      <td>181.00</td>\n",
              "      <td>C840083671</td>\n",
              "      <td>181.00</td>\n",
              "      <td>0.00</td>\n",
              "      <td>C38997010</td>\n",
              "      <td>21182.0</td>\n",
              "      <td>0.00</td>\n",
              "      <td>1.0</td>\n",
              "      <td>0.0</td>\n",
              "    </tr>\n",
              "    <tr>\n",
              "      <th>4</th>\n",
              "      <td>1</td>\n",
              "      <td>PAYMENT</td>\n",
              "      <td>11668.14</td>\n",
              "      <td>C2048537720</td>\n",
              "      <td>41554.00</td>\n",
              "      <td>29885.86</td>\n",
              "      <td>M1230701703</td>\n",
              "      <td>0.0</td>\n",
              "      <td>0.00</td>\n",
              "      <td>0.0</td>\n",
              "      <td>0.0</td>\n",
              "    </tr>\n",
              "    <tr>\n",
              "      <th>5</th>\n",
              "      <td>1</td>\n",
              "      <td>PAYMENT</td>\n",
              "      <td>7817.71</td>\n",
              "      <td>C90045638</td>\n",
              "      <td>53860.00</td>\n",
              "      <td>46042.29</td>\n",
              "      <td>M573487274</td>\n",
              "      <td>0.0</td>\n",
              "      <td>0.00</td>\n",
              "      <td>0.0</td>\n",
              "      <td>0.0</td>\n",
              "    </tr>\n",
              "    <tr>\n",
              "      <th>6</th>\n",
              "      <td>1</td>\n",
              "      <td>PAYMENT</td>\n",
              "      <td>7107.77</td>\n",
              "      <td>C154988899</td>\n",
              "      <td>183195.00</td>\n",
              "      <td>176087.23</td>\n",
              "      <td>M408069119</td>\n",
              "      <td>0.0</td>\n",
              "      <td>0.00</td>\n",
              "      <td>0.0</td>\n",
              "      <td>0.0</td>\n",
              "    </tr>\n",
              "    <tr>\n",
              "      <th>7</th>\n",
              "      <td>1</td>\n",
              "      <td>PAYMENT</td>\n",
              "      <td>7861.64</td>\n",
              "      <td>C1912850431</td>\n",
              "      <td>176087.23</td>\n",
              "      <td>168225.59</td>\n",
              "      <td>M633326333</td>\n",
              "      <td>0.0</td>\n",
              "      <td>0.00</td>\n",
              "      <td>0.0</td>\n",
              "      <td>0.0</td>\n",
              "    </tr>\n",
              "    <tr>\n",
              "      <th>8</th>\n",
              "      <td>1</td>\n",
              "      <td>PAYMENT</td>\n",
              "      <td>4024.36</td>\n",
              "      <td>C1265012928</td>\n",
              "      <td>2671.00</td>\n",
              "      <td>0.00</td>\n",
              "      <td>M1176932104</td>\n",
              "      <td>0.0</td>\n",
              "      <td>0.00</td>\n",
              "      <td>0.0</td>\n",
              "      <td>0.0</td>\n",
              "    </tr>\n",
              "    <tr>\n",
              "      <th>9</th>\n",
              "      <td>1</td>\n",
              "      <td>DEBIT</td>\n",
              "      <td>5337.77</td>\n",
              "      <td>C712410124</td>\n",
              "      <td>41720.00</td>\n",
              "      <td>36382.23</td>\n",
              "      <td>C195600860</td>\n",
              "      <td>41898.0</td>\n",
              "      <td>40348.79</td>\n",
              "      <td>0.0</td>\n",
              "      <td>0.0</td>\n",
              "    </tr>\n",
              "  </tbody>\n",
              "</table>\n",
              "</div>\n",
              "      <button class=\"colab-df-convert\" onclick=\"convertToInteractive('df-4c9e910e-d62a-4533-8e37-167e87c613c9')\"\n",
              "              title=\"Convert this dataframe to an interactive table.\"\n",
              "              style=\"display:none;\">\n",
              "        \n",
              "  <svg xmlns=\"http://www.w3.org/2000/svg\" height=\"24px\"viewBox=\"0 0 24 24\"\n",
              "       width=\"24px\">\n",
              "    <path d=\"M0 0h24v24H0V0z\" fill=\"none\"/>\n",
              "    <path d=\"M18.56 5.44l.94 2.06.94-2.06 2.06-.94-2.06-.94-.94-2.06-.94 2.06-2.06.94zm-11 1L8.5 8.5l.94-2.06 2.06-.94-2.06-.94L8.5 2.5l-.94 2.06-2.06.94zm10 10l.94 2.06.94-2.06 2.06-.94-2.06-.94-.94-2.06-.94 2.06-2.06.94z\"/><path d=\"M17.41 7.96l-1.37-1.37c-.4-.4-.92-.59-1.43-.59-.52 0-1.04.2-1.43.59L10.3 9.45l-7.72 7.72c-.78.78-.78 2.05 0 2.83L4 21.41c.39.39.9.59 1.41.59.51 0 1.02-.2 1.41-.59l7.78-7.78 2.81-2.81c.8-.78.8-2.07 0-2.86zM5.41 20L4 18.59l7.72-7.72 1.47 1.35L5.41 20z\"/>\n",
              "  </svg>\n",
              "      </button>\n",
              "      \n",
              "  <style>\n",
              "    .colab-df-container {\n",
              "      display:flex;\n",
              "      flex-wrap:wrap;\n",
              "      gap: 12px;\n",
              "    }\n",
              "\n",
              "    .colab-df-convert {\n",
              "      background-color: #E8F0FE;\n",
              "      border: none;\n",
              "      border-radius: 50%;\n",
              "      cursor: pointer;\n",
              "      display: none;\n",
              "      fill: #1967D2;\n",
              "      height: 32px;\n",
              "      padding: 0 0 0 0;\n",
              "      width: 32px;\n",
              "    }\n",
              "\n",
              "    .colab-df-convert:hover {\n",
              "      background-color: #E2EBFA;\n",
              "      box-shadow: 0px 1px 2px rgba(60, 64, 67, 0.3), 0px 1px 3px 1px rgba(60, 64, 67, 0.15);\n",
              "      fill: #174EA6;\n",
              "    }\n",
              "\n",
              "    [theme=dark] .colab-df-convert {\n",
              "      background-color: #3B4455;\n",
              "      fill: #D2E3FC;\n",
              "    }\n",
              "\n",
              "    [theme=dark] .colab-df-convert:hover {\n",
              "      background-color: #434B5C;\n",
              "      box-shadow: 0px 1px 3px 1px rgba(0, 0, 0, 0.15);\n",
              "      filter: drop-shadow(0px 1px 2px rgba(0, 0, 0, 0.3));\n",
              "      fill: #FFFFFF;\n",
              "    }\n",
              "  </style>\n",
              "\n",
              "      <script>\n",
              "        const buttonEl =\n",
              "          document.querySelector('#df-4c9e910e-d62a-4533-8e37-167e87c613c9 button.colab-df-convert');\n",
              "        buttonEl.style.display =\n",
              "          google.colab.kernel.accessAllowed ? 'block' : 'none';\n",
              "\n",
              "        async function convertToInteractive(key) {\n",
              "          const element = document.querySelector('#df-4c9e910e-d62a-4533-8e37-167e87c613c9');\n",
              "          const dataTable =\n",
              "            await google.colab.kernel.invokeFunction('convertToInteractive',\n",
              "                                                     [key], {});\n",
              "          if (!dataTable) return;\n",
              "\n",
              "          const docLinkHtml = 'Like what you see? Visit the ' +\n",
              "            '<a target=\"_blank\" href=https://colab.research.google.com/notebooks/data_table.ipynb>data table notebook</a>'\n",
              "            + ' to learn more about interactive tables.';\n",
              "          element.innerHTML = '';\n",
              "          dataTable['output_type'] = 'display_data';\n",
              "          await google.colab.output.renderOutput(dataTable, element);\n",
              "          const docLink = document.createElement('div');\n",
              "          docLink.innerHTML = docLinkHtml;\n",
              "          element.appendChild(docLink);\n",
              "        }\n",
              "      </script>\n",
              "    </div>\n",
              "  </div>\n",
              "  "
            ]
          },
          "metadata": {},
          "execution_count": 2
        }
      ],
      "source": [
        "import pandas as pd\n",
        "df = pd.read_csv('./Fraud.csv')\n",
        "df.head(10)"
      ]
    },
    {
      "cell_type": "markdown",
      "source": [
        "Checking missing values"
      ],
      "metadata": {
        "id": "q2xSlji0MHe6"
      }
    },
    {
      "cell_type": "code",
      "source": [
        "df.isnull().values.any()"
      ],
      "metadata": {
        "colab": {
          "base_uri": "https://localhost:8080/"
        },
        "id": "_jnJL4s2D-dm",
        "outputId": "16d26099-7a7d-4781-c396-2cc6ae2e2648"
      },
      "execution_count": null,
      "outputs": [
        {
          "output_type": "execute_result",
          "data": {
            "text/plain": [
              "True"
            ]
          },
          "metadata": {},
          "execution_count": 3
        }
      ]
    },
    {
      "cell_type": "code",
      "source": [
        "df.isnull().sum()"
      ],
      "metadata": {
        "colab": {
          "base_uri": "https://localhost:8080/"
        },
        "id": "J9OVSztzGYJd",
        "outputId": "5b4642de-c09c-4e0e-c4b3-eac2d8970343"
      },
      "execution_count": null,
      "outputs": [
        {
          "output_type": "execute_result",
          "data": {
            "text/plain": [
              "step              0\n",
              "type              0\n",
              "amount            0\n",
              "nameOrig          0\n",
              "oldbalanceOrg     0\n",
              "newbalanceOrig    0\n",
              "nameDest          0\n",
              "oldbalanceDest    0\n",
              "newbalanceDest    1\n",
              "isFraud           1\n",
              "isFlaggedFraud    1\n",
              "dtype: int64"
            ]
          },
          "metadata": {},
          "execution_count": 4
        }
      ]
    },
    {
      "cell_type": "markdown",
      "source": [
        "Removing rows containing missing values"
      ],
      "metadata": {
        "id": "5W4hUZaNMNRF"
      }
    },
    {
      "cell_type": "code",
      "source": [
        "cleandf = df.dropna(axis=0)\n",
        "cleandf.isnull().sum()"
      ],
      "metadata": {
        "colab": {
          "base_uri": "https://localhost:8080/"
        },
        "id": "UFBTdArlHIbV",
        "outputId": "076c3696-fced-4d24-c460-46a37cb5442b"
      },
      "execution_count": null,
      "outputs": [
        {
          "output_type": "execute_result",
          "data": {
            "text/plain": [
              "step              0\n",
              "type              0\n",
              "amount            0\n",
              "nameOrig          0\n",
              "oldbalanceOrg     0\n",
              "newbalanceOrig    0\n",
              "nameDest          0\n",
              "oldbalanceDest    0\n",
              "newbalanceDest    0\n",
              "isFraud           0\n",
              "isFlaggedFraud    0\n",
              "dtype: int64"
            ]
          },
          "metadata": {},
          "execution_count": 5
        }
      ]
    },
    {
      "cell_type": "markdown",
      "source": [
        "Checking Outliers"
      ],
      "metadata": {
        "id": "Msyak0ngMVhR"
      }
    },
    {
      "cell_type": "code",
      "source": [
        "import seaborn as sns\n",
        "sns.boxplot(cleandf['step'])"
      ],
      "metadata": {
        "colab": {
          "base_uri": "https://localhost:8080/",
          "height": 351
        },
        "id": "XY-hmhqvIK5t",
        "outputId": "6c50f938-6f9c-4a8e-9738-bc5e31cae27a"
      },
      "execution_count": null,
      "outputs": [
        {
          "output_type": "stream",
          "name": "stderr",
          "text": [
            "/usr/local/lib/python3.7/dist-packages/seaborn/_decorators.py:43: FutureWarning: Pass the following variable as a keyword arg: x. From version 0.12, the only valid positional argument will be `data`, and passing other arguments without an explicit keyword will result in an error or misinterpretation.\n",
            "  FutureWarning\n"
          ]
        },
        {
          "output_type": "execute_result",
          "data": {
            "text/plain": [
              "<matplotlib.axes._subplots.AxesSubplot at 0x7fcf61f1ce10>"
            ]
          },
          "metadata": {},
          "execution_count": 6
        },
        {
          "output_type": "display_data",
          "data": {
            "text/plain": [
              "<Figure size 432x288 with 1 Axes>"
            ],
            "image/png": "[encoded data removed]"
          },
          "metadata": {
            "needs_background": "light"
          }
        }
      ]
    },
    {
      "cell_type": "code",
      "source": [
        "sns.boxplot(cleandf['isFraud'])"
      ],
      "metadata": {
        "colab": {
          "base_uri": "https://localhost:8080/",
          "height": 351
        },
        "id": "AHGJioPGJWSf",
        "outputId": "47860c31-3ae9-4554-92fe-31cc088d02e8"
      },
      "execution_count": null,
      "outputs": [
        {
          "output_type": "stream",
          "name": "stderr",
          "text": [
            "/usr/local/lib/python3.7/dist-packages/seaborn/_decorators.py:43: FutureWarning: Pass the following variable as a keyword arg: x. From version 0.12, the only valid positional argument will be `data`, and passing other arguments without an explicit keyword will result in an error or misinterpretation.\n",
            "  FutureWarning\n"
          ]
        },
        {
          "output_type": "execute_result",
          "data": {
            "text/plain": [
              "<matplotlib.axes._subplots.AxesSubplot at 0x7fcf616f3810>"
            ]
          },
          "metadata": {},
          "execution_count": 7
        },
        {
          "output_type": "display_data",
          "data": {
            "text/plain": [
              "<Figure size 432x288 with 1 Axes>"
            ],
            "image/png": "[encoded data removed]"
          },
          "metadata": {
            "needs_background": "light"
          }
        }
      ]
    },
    {
      "cell_type": "code",
      "source": [
        "sns.boxplot(cleandf['isFlaggedFraud'])"
      ],
      "metadata": {
        "colab": {
          "base_uri": "https://localhost:8080/",
          "height": 351
        },
        "id": "iuIqU-DGKEjO",
        "outputId": "6f763d7c-ee11-451d-a710-a78e19183acf"
      },
      "execution_count": null,
      "outputs": [
        {
          "output_type": "stream",
          "name": "stderr",
          "text": [
            "/usr/local/lib/python3.7/dist-packages/seaborn/_decorators.py:43: FutureWarning: Pass the following variable as a keyword arg: x. From version 0.12, the only valid positional argument will be `data`, and passing other arguments without an explicit keyword will result in an error or misinterpretation.\n",
            "  FutureWarning\n"
          ]
        },
        {
          "output_type": "execute_result",
          "data": {
            "text/plain": [
              "<matplotlib.axes._subplots.AxesSubplot at 0x7fcf61211090>"
            ]
          },
          "metadata": {},
          "execution_count": 8
        },
        {
          "output_type": "display_data",
          "data": {
            "text/plain": [
              "<Figure size 432x288 with 1 Axes>"
            ],
            "image/png": "[encoded data removed]"
          },
          "metadata": {
            "needs_background": "light"
          }
        }
      ]
    },
    {
      "cell_type": "markdown",
      "source": [
        "checking  multi-collinearity"
      ],
      "metadata": {
        "id": "o3ZRRZICL9UF"
      }
    },
    {
      "cell_type": "code",
      "source": [
        "corr=cleandf.corr()\n",
        "corr.style.background_gradient()"
      ],
      "metadata": {
        "colab": {
          "base_uri": "https://localhost:8080/",
          "height": 390
        },
        "id": "uv4nO7DpK9tr",
        "outputId": "4692644b-b0e2-4114-e178-4657cba75149"
      },
      "execution_count": null,
      "outputs": [
        {
          "output_type": "stream",
          "name": "stderr",
          "text": [
            "/usr/local/lib/python3.7/dist-packages/pandas/io/formats/style.py:2813: RuntimeWarning: All-NaN slice encountered\n",
            "  smin = np.nanmin(gmap) if vmin is None else vmin\n",
            "/usr/local/lib/python3.7/dist-packages/pandas/io/formats/style.py:2814: RuntimeWarning: All-NaN slice encountered\n",
            "  smax = np.nanmax(gmap) if vmax is None else vmax\n"
          ]
        },
        {
          "output_type": "execute_result",
          "data": {
            "text/plain": [
              "<pandas.io.formats.style.Styler at 0x7fcf611f5650>"
            ],
            "text/html": [
              "<style type=\"text/css\">\n",
              "#T_af3c1_row0_col0, #T_af3c1_row1_col1, #T_af3c1_row2_col2, #T_af3c1_row2_col3, #T_af3c1_row3_col2, #T_af3c1_row3_col3, #T_af3c1_row4_col4, #T_af3c1_row5_col5, #T_af3c1_row6_col6 {\n",
              "  background-color: #023858;\n",
              "  color: #f1f1f1;\n",
              "}\n",
              "#T_af3c1_row0_col1, #T_af3c1_row5_col3 {\n",
              "  background-color: #f2ecf5;\n",
              "  color: #000000;\n",
              "}\n",
              "#T_af3c1_row0_col2, #T_af3c1_row0_col4 {\n",
              "  background-color: #fef6fa;\n",
              "  color: #000000;\n",
              "}\n",
              "#T_af3c1_row0_col3 {\n",
              "  background-color: #fdf5fa;\n",
              "  color: #000000;\n",
              "}\n",
              "#T_af3c1_row0_col5 {\n",
              "  background-color: #fcf4fa;\n",
              "  color: #000000;\n",
              "}\n",
              "#T_af3c1_row0_col6, #T_af3c1_row1_col2, #T_af3c1_row1_col3, #T_af3c1_row3_col1, #T_af3c1_row6_col0, #T_af3c1_row6_col2, #T_af3c1_row6_col3, #T_af3c1_row6_col4, #T_af3c1_row6_col5 {\n",
              "  background-color: #fff7fb;\n",
              "  color: #000000;\n",
              "}\n",
              "#T_af3c1_row0_col7, #T_af3c1_row1_col7, #T_af3c1_row2_col7, #T_af3c1_row3_col7, #T_af3c1_row4_col7, #T_af3c1_row5_col7, #T_af3c1_row6_col7, #T_af3c1_row7_col0, #T_af3c1_row7_col1, #T_af3c1_row7_col2, #T_af3c1_row7_col3, #T_af3c1_row7_col4, #T_af3c1_row7_col5, #T_af3c1_row7_col6, #T_af3c1_row7_col7 {\n",
              "  background-color: #000000;\n",
              "  color: #f1f1f1;\n",
              "}\n",
              "#T_af3c1_row1_col0, #T_af3c1_row4_col3 {\n",
              "  background-color: #ede7f2;\n",
              "  color: #000000;\n",
              "}\n",
              "#T_af3c1_row1_col4, #T_af3c1_row4_col1 {\n",
              "  background-color: #c8cde4;\n",
              "  color: #000000;\n",
              "}\n",
              "#T_af3c1_row1_col5, #T_af3c1_row5_col1 {\n",
              "  background-color: #9fbad9;\n",
              "  color: #000000;\n",
              "}\n",
              "#T_af3c1_row1_col6 {\n",
              "  background-color: #f1ebf4;\n",
              "  color: #000000;\n",
              "}\n",
              "#T_af3c1_row2_col0, #T_af3c1_row3_col0, #T_af3c1_row6_col1 {\n",
              "  background-color: #f7f0f7;\n",
              "  color: #000000;\n",
              "}\n",
              "#T_af3c1_row2_col1 {\n",
              "  background-color: #fef6fb;\n",
              "  color: #000000;\n",
              "}\n",
              "#T_af3c1_row2_col4, #T_af3c1_row3_col4 {\n",
              "  background-color: #ede8f3;\n",
              "  color: #000000;\n",
              "}\n",
              "#T_af3c1_row2_col5, #T_af3c1_row3_col5, #T_af3c1_row5_col2 {\n",
              "  background-color: #f3edf5;\n",
              "  color: #000000;\n",
              "}\n",
              "#T_af3c1_row2_col6, #T_af3c1_row4_col0 {\n",
              "  background-color: #f8f1f8;\n",
              "  color: #000000;\n",
              "}\n",
              "#T_af3c1_row3_col6 {\n",
              "  background-color: #faf2f8;\n",
              "  color: #000000;\n",
              "}\n",
              "#T_af3c1_row4_col2 {\n",
              "  background-color: #eee9f3;\n",
              "  color: #000000;\n",
              "}\n",
              "#T_af3c1_row4_col5, #T_af3c1_row5_col4 {\n",
              "  background-color: #034a74;\n",
              "  color: #f1f1f1;\n",
              "}\n",
              "#T_af3c1_row4_col6, #T_af3c1_row5_col6 {\n",
              "  background-color: #f9f2f8;\n",
              "  color: #000000;\n",
              "}\n",
              "#T_af3c1_row5_col0 {\n",
              "  background-color: #f5eff6;\n",
              "  color: #000000;\n",
              "}\n",
              "</style>\n",
              "<table id=\"T_af3c1_\" class=\"dataframe\">\n",
              "  <thead>\n",
              "    <tr>\n",
              "      <th class=\"blank level0\" >&nbsp;</th>\n",
              "      <th class=\"col_heading level0 col0\" >step</th>\n",
              "      <th class=\"col_heading level0 col1\" >amount</th>\n",
              "      <th class=\"col_heading level0 col2\" >oldbalanceOrg</th>\n",
              "      <th class=\"col_heading level0 col3\" >newbalanceOrig</th>\n",
              "      <th class=\"col_heading level0 col4\" >oldbalanceDest</th>\n",
              "      <th class=\"col_heading level0 col5\" >newbalanceDest</th>\n",
              "      <th class=\"col_heading level0 col6\" >isFraud</th>\n",
              "      <th class=\"col_heading level0 col7\" >isFlaggedFraud</th>\n",
              "    </tr>\n",
              "  </thead>\n",
              "  <tbody>\n",
              "    <tr>\n",
              "      <th id=\"T_af3c1_level0_row0\" class=\"row_heading level0 row0\" >step</th>\n",
              "      <td id=\"T_af3c1_row0_col0\" class=\"data row0 col0\" >1.000000</td>\n",
              "      <td id=\"T_af3c1_row0_col1\" class=\"data row0 col1\" >0.078138</td>\n",
              "      <td id=\"T_af3c1_row0_col2\" class=\"data row0 col2\" >0.006637</td>\n",
              "      <td id=\"T_af3c1_row0_col3\" class=\"data row0 col3\" >0.006260</td>\n",
              "      <td id=\"T_af3c1_row0_col4\" class=\"data row0 col4\" >0.000887</td>\n",
              "      <td id=\"T_af3c1_row0_col5\" class=\"data row0 col5\" >0.015396</td>\n",
              "      <td id=\"T_af3c1_row0_col6\" class=\"data row0 col6\" >-0.051862</td>\n",
              "      <td id=\"T_af3c1_row0_col7\" class=\"data row0 col7\" >nan</td>\n",
              "    </tr>\n",
              "    <tr>\n",
              "      <th id=\"T_af3c1_level0_row1\" class=\"row_heading level0 row1\" >amount</th>\n",
              "      <td id=\"T_af3c1_row1_col0\" class=\"data row1 col0\" >0.078138</td>\n",
              "      <td id=\"T_af3c1_row1_col1\" class=\"data row1 col1\" >1.000000</td>\n",
              "      <td id=\"T_af3c1_row1_col2\" class=\"data row1 col2\" >-0.001700</td>\n",
              "      <td id=\"T_af3c1_row1_col3\" class=\"data row1 col3\" >-0.008403</td>\n",
              "      <td id=\"T_af3c1_row1_col4\" class=\"data row1 col4\" >0.268005</td>\n",
              "      <td id=\"T_af3c1_row1_col5\" class=\"data row1 col5\" >0.389110</td>\n",
              "      <td id=\"T_af3c1_row1_col6\" class=\"data row1 col6\" >0.047712</td>\n",
              "      <td id=\"T_af3c1_row1_col7\" class=\"data row1 col7\" >nan</td>\n",
              "    </tr>\n",
              "    <tr>\n",
              "      <th id=\"T_af3c1_level0_row2\" class=\"row_heading level0 row2\" >oldbalanceOrg</th>\n",
              "      <td id=\"T_af3c1_row2_col0\" class=\"data row2 col0\" >0.006637</td>\n",
              "      <td id=\"T_af3c1_row2_col1\" class=\"data row2 col1\" >-0.001700</td>\n",
              "      <td id=\"T_af3c1_row2_col2\" class=\"data row2 col2\" >1.000000</td>\n",
              "      <td id=\"T_af3c1_row2_col3\" class=\"data row2 col3\" >0.998970</td>\n",
              "      <td id=\"T_af3c1_row2_col4\" class=\"data row2 col4\" >0.108261</td>\n",
              "      <td id=\"T_af3c1_row2_col5\" class=\"data row2 col5\" >0.075372</td>\n",
              "      <td id=\"T_af3c1_row2_col6\" class=\"data row2 col6\" >-0.004517</td>\n",
              "      <td id=\"T_af3c1_row2_col7\" class=\"data row2 col7\" >nan</td>\n",
              "    </tr>\n",
              "    <tr>\n",
              "      <th id=\"T_af3c1_level0_row3\" class=\"row_heading level0 row3\" >newbalanceOrig</th>\n",
              "      <td id=\"T_af3c1_row3_col0\" class=\"data row3 col0\" >0.006260</td>\n",
              "      <td id=\"T_af3c1_row3_col1\" class=\"data row3 col1\" >-0.008403</td>\n",
              "      <td id=\"T_af3c1_row3_col2\" class=\"data row3 col2\" >0.998970</td>\n",
              "      <td id=\"T_af3c1_row3_col3\" class=\"data row3 col3\" >1.000000</td>\n",
              "      <td id=\"T_af3c1_row3_col4\" class=\"data row3 col4\" >0.110350</td>\n",
              "      <td id=\"T_af3c1_row3_col5\" class=\"data row3 col5\" >0.074976</td>\n",
              "      <td id=\"T_af3c1_row3_col6\" class=\"data row3 col6\" >-0.012301</td>\n",
              "      <td id=\"T_af3c1_row3_col7\" class=\"data row3 col7\" >nan</td>\n",
              "    </tr>\n",
              "    <tr>\n",
              "      <th id=\"T_af3c1_level0_row4\" class=\"row_heading level0 row4\" >oldbalanceDest</th>\n",
              "      <td id=\"T_af3c1_row4_col0\" class=\"data row4 col0\" >0.000887</td>\n",
              "      <td id=\"T_af3c1_row4_col1\" class=\"data row4 col1\" >0.268005</td>\n",
              "      <td id=\"T_af3c1_row4_col2\" class=\"data row4 col2\" >0.108261</td>\n",
              "      <td id=\"T_af3c1_row4_col3\" class=\"data row4 col3\" >0.110350</td>\n",
              "      <td id=\"T_af3c1_row4_col4\" class=\"data row4 col4\" >1.000000</td>\n",
              "      <td id=\"T_af3c1_row4_col5\" class=\"data row4 col5\" >0.930480</td>\n",
              "      <td id=\"T_af3c1_row4_col6\" class=\"data row4 col6\" >-0.010576</td>\n",
              "      <td id=\"T_af3c1_row4_col7\" class=\"data row4 col7\" >nan</td>\n",
              "    </tr>\n",
              "    <tr>\n",
              "      <th id=\"T_af3c1_level0_row5\" class=\"row_heading level0 row5\" >newbalanceDest</th>\n",
              "      <td id=\"T_af3c1_row5_col0\" class=\"data row5 col0\" >0.015396</td>\n",
              "      <td id=\"T_af3c1_row5_col1\" class=\"data row5 col1\" >0.389110</td>\n",
              "      <td id=\"T_af3c1_row5_col2\" class=\"data row5 col2\" >0.075372</td>\n",
              "      <td id=\"T_af3c1_row5_col3\" class=\"data row5 col3\" >0.074976</td>\n",
              "      <td id=\"T_af3c1_row5_col4\" class=\"data row5 col4\" >0.930480</td>\n",
              "      <td id=\"T_af3c1_row5_col5\" class=\"data row5 col5\" >1.000000</td>\n",
              "      <td id=\"T_af3c1_row5_col6\" class=\"data row5 col6\" >-0.007152</td>\n",
              "      <td id=\"T_af3c1_row5_col7\" class=\"data row5 col7\" >nan</td>\n",
              "    </tr>\n",
              "    <tr>\n",
              "      <th id=\"T_af3c1_level0_row6\" class=\"row_heading level0 row6\" >isFraud</th>\n",
              "      <td id=\"T_af3c1_row6_col0\" class=\"data row6 col0\" >-0.051862</td>\n",
              "      <td id=\"T_af3c1_row6_col1\" class=\"data row6 col1\" >0.047712</td>\n",
              "      <td id=\"T_af3c1_row6_col2\" class=\"data row6 col2\" >-0.004517</td>\n",
              "      <td id=\"T_af3c1_row6_col3\" class=\"data row6 col3\" >-0.012301</td>\n",
              "      <td id=\"T_af3c1_row6_col4\" class=\"data row6 col4\" >-0.010576</td>\n",
              "      <td id=\"T_af3c1_row6_col5\" class=\"data row6 col5\" >-0.007152</td>\n",
              "      <td id=\"T_af3c1_row6_col6\" class=\"data row6 col6\" >1.000000</td>\n",
              "      <td id=\"T_af3c1_row6_col7\" class=\"data row6 col7\" >nan</td>\n",
              "    </tr>\n",
              "    <tr>\n",
              "      <th id=\"T_af3c1_level0_row7\" class=\"row_heading level0 row7\" >isFlaggedFraud</th>\n",
              "      <td id=\"T_af3c1_row7_col0\" class=\"data row7 col0\" >nan</td>\n",
              "      <td id=\"T_af3c1_row7_col1\" class=\"data row7 col1\" >nan</td>\n",
              "      <td id=\"T_af3c1_row7_col2\" class=\"data row7 col2\" >nan</td>\n",
              "      <td id=\"T_af3c1_row7_col3\" class=\"data row7 col3\" >nan</td>\n",
              "      <td id=\"T_af3c1_row7_col4\" class=\"data row7 col4\" >nan</td>\n",
              "      <td id=\"T_af3c1_row7_col5\" class=\"data row7 col5\" >nan</td>\n",
              "      <td id=\"T_af3c1_row7_col6\" class=\"data row7 col6\" >nan</td>\n",
              "      <td id=\"T_af3c1_row7_col7\" class=\"data row7 col7\" >nan</td>\n",
              "    </tr>\n",
              "  </tbody>\n",
              "</table>\n"
            ]
          },
          "metadata": {},
          "execution_count": 9
        }
      ]
    },
    {
      "cell_type": "markdown",
      "source": [
        "Checking what type of transactions are fraud"
      ],
      "metadata": {
        "id": "Zh0CAGqxTRfc"
      }
    },
    {
      "cell_type": "code",
      "source": [
        "set(cleandf.loc[cleandf.isFraud == 1].type.values)"
      ],
      "metadata": {
        "colab": {
          "base_uri": "https://localhost:8080/"
        },
        "id": "uj-9hNm2TDyN",
        "outputId": "b6601288-16da-444f-ec39-54caef8ae691"
      },
      "execution_count": null,
      "outputs": [
        {
          "output_type": "execute_result",
          "data": {
            "text/plain": [
              "{'CASH_OUT', 'TRANSFER'}"
            ]
          },
          "metadata": {},
          "execution_count": 10
        }
      ]
    },
    {
      "cell_type": "markdown",
      "source": [
        "Assembling only data which is usefull. Only considering 'CASH_OUT' and 'TRANSFER' type data. 'nameOrig', 'nameDest', 'isFlaggedFraud' are unrelated to any explanatory vaiable."
      ],
      "metadata": {
        "id": "aSsv3ZKFUDIj"
      }
    },
    {
      "cell_type": "code",
      "source": [
        "import numpy as np\n",
        "X = cleandf.loc[(cleandf.type == 'TRANSFER') | (cleandf.type == 'CASH_OUT')]\n",
        "\n",
        "Y = X['isFraud']\n",
        "\n",
        "# Eliminating irrelevant columns\n",
        "X = X.drop(['nameOrig', 'nameDest', 'isFlaggedFraud'], axis = 1)\n",
        "\n",
        "# Binary-encoding of labelled data in 'type'\n",
        "X.loc[X.type == 'TRANSFER', 'type'] = 0\n",
        "X.loc[X.type == 'CASH_OUT', 'type'] = 1\n",
        "X.type = X.type.astype(int) # convert dtype('O') to dtype(int)\n",
        "X.head(10)"
      ],
      "metadata": {
        "colab": {
          "base_uri": "https://localhost:8080/",
          "height": 363
        },
        "id": "hztPk3J6UXcx",
        "outputId": "d7b4fb48-9616-4cad-a0e6-7b5fc122843e"
      },
      "execution_count": null,
      "outputs": [
        {
          "output_type": "execute_result",
          "data": {
            "text/plain": [
              "    step  type     amount  oldbalanceOrg  newbalanceOrig  oldbalanceDest  \\\n",
              "2      1     0     181.00         181.00             0.0             0.0   \n",
              "3      1     1     181.00         181.00             0.0         21182.0   \n",
              "15     1     1  229133.94       15325.00             0.0          5083.0   \n",
              "19     1     0  215310.30         705.00             0.0         22425.0   \n",
              "24     1     0  311685.89       10835.00             0.0          6267.0   \n",
              "42     1     1  110414.71       26845.41             0.0        288800.0   \n",
              "47     1     1   56953.90        1942.02             0.0         70253.0   \n",
              "48     1     1    5346.89           0.00             0.0        652637.0   \n",
              "51     1     1   23261.30       20411.53             0.0         25742.0   \n",
              "58     1     0   62610.80       79114.00         16503.2           517.0   \n",
              "\n",
              "    newbalanceDest  isFraud  \n",
              "2             0.00      1.0  \n",
              "3             0.00      1.0  \n",
              "15        51513.44      0.0  \n",
              "19            0.00      0.0  \n",
              "24      2719172.89      0.0  \n",
              "42         2415.16      0.0  \n",
              "47        64106.18      0.0  \n",
              "48      6453430.91      0.0  \n",
              "51            0.00      0.0  \n",
              "58         8383.29      0.0  "
            ],
            "text/html": [
              "\n",
              "  <div id=\"df-85f50e54-3546-4e3e-9fe2-5a0b3b63326c\">\n",
              "    <div class=\"colab-df-container\">\n",
              "      <div>\n",
              "<style scoped>\n",
              "    .dataframe tbody tr th:only-of-type {\n",
              "        vertical-align: middle;\n",
              "    }\n",
              "\n",
              "    .dataframe tbody tr th {\n",
              "        vertical-align: top;\n",
              "    }\n",
              "\n",
              "    .dataframe thead th {\n",
              "        text-align: right;\n",
              "    }\n",
              "</style>\n",
              "<table border=\"1\" class=\"dataframe\">\n",
              "  <thead>\n",
              "    <tr style=\"text-align: right;\">\n",
              "      <th></th>\n",
              "      <th>step</th>\n",
              "      <th>type</th>\n",
              "      <th>amount</th>\n",
              "      <th>oldbalanceOrg</th>\n",
              "      <th>newbalanceOrig</th>\n",
              "      <th>oldbalanceDest</th>\n",
              "      <th>newbalanceDest</th>\n",
              "      <th>isFraud</th>\n",
              "    </tr>\n",
              "  </thead>\n",
              "  <tbody>\n",
              "    <tr>\n",
              "      <th>2</th>\n",
              "      <td>1</td>\n",
              "      <td>0</td>\n",
              "      <td>181.00</td>\n",
              "      <td>181.00</td>\n",
              "      <td>0.0</td>\n",
              "      <td>0.0</td>\n",
              "      <td>0.00</td>\n",
              "      <td>1.0</td>\n",
              "    </tr>\n",
              "    <tr>\n",
              "      <th>3</th>\n",
              "      <td>1</td>\n",
              "      <td>1</td>\n",
              "      <td>181.00</td>\n",
              "      <td>181.00</td>\n",
              "      <td>0.0</td>\n",
              "      <td>21182.0</td>\n",
              "      <td>0.00</td>\n",
              "      <td>1.0</td>\n",
              "    </tr>\n",
              "    <tr>\n",
              "      <th>15</th>\n",
              "      <td>1</td>\n",
              "      <td>1</td>\n",
              "      <td>229133.94</td>\n",
              "      <td>15325.00</td>\n",
              "      <td>0.0</td>\n",
              "      <td>5083.0</td>\n",
              "      <td>51513.44</td>\n",
              "      <td>0.0</td>\n",
              "    </tr>\n",
              "    <tr>\n",
              "      <th>19</th>\n",
              "      <td>1</td>\n",
              "      <td>0</td>\n",
              "      <td>215310.30</td>\n",
              "      <td>705.00</td>\n",
              "      <td>0.0</td>\n",
              "      <td>22425.0</td>\n",
              "      <td>0.00</td>\n",
              "      <td>0.0</td>\n",
              "    </tr>\n",
              "    <tr>\n",
              "      <th>24</th>\n",
              "      <td>1</td>\n",
              "      <td>0</td>\n",
              "      <td>311685.89</td>\n",
              "      <td>10835.00</td>\n",
              "      <td>0.0</td>\n",
              "      <td>6267.0</td>\n",
              "      <td>2719172.89</td>\n",
              "      <td>0.0</td>\n",
              "    </tr>\n",
              "    <tr>\n",
              "      <th>42</th>\n",
              "      <td>1</td>\n",
              "      <td>1</td>\n",
              "      <td>110414.71</td>\n",
              "      <td>26845.41</td>\n",
              "      <td>0.0</td>\n",
              "      <td>288800.0</td>\n",
              "      <td>2415.16</td>\n",
              "      <td>0.0</td>\n",
              "    </tr>\n",
              "    <tr>\n",
              "      <th>47</th>\n",
              "      <td>1</td>\n",
              "      <td>1</td>\n",
              "      <td>56953.90</td>\n",
              "      <td>1942.02</td>\n",
              "      <td>0.0</td>\n",
              "      <td>70253.0</td>\n",
              "      <td>64106.18</td>\n",
              "      <td>0.0</td>\n",
              "    </tr>\n",
              "    <tr>\n",
              "      <th>48</th>\n",
              "      <td>1</td>\n",
              "      <td>1</td>\n",
              "      <td>5346.89</td>\n",
              "      <td>0.00</td>\n",
              "      <td>0.0</td>\n",
              "      <td>652637.0</td>\n",
              "      <td>6453430.91</td>\n",
              "      <td>0.0</td>\n",
              "    </tr>\n",
              "    <tr>\n",
              "      <th>51</th>\n",
              "      <td>1</td>\n",
              "      <td>1</td>\n",
              "      <td>23261.30</td>\n",
              "      <td>20411.53</td>\n",
              "      <td>0.0</td>\n",
              "      <td>25742.0</td>\n",
              "      <td>0.00</td>\n",
              "      <td>0.0</td>\n",
              "    </tr>\n",
              "    <tr>\n",
              "      <th>58</th>\n",
              "      <td>1</td>\n",
              "      <td>0</td>\n",
              "      <td>62610.80</td>\n",
              "      <td>79114.00</td>\n",
              "      <td>16503.2</td>\n",
              "      <td>517.0</td>\n",
              "      <td>8383.29</td>\n",
              "      <td>0.0</td>\n",
              "    </tr>\n",
              "  </tbody>\n",
              "</table>\n",
              "</div>\n",
              "      <button class=\"colab-df-convert\" onclick=\"convertToInteractive('df-85f50e54-3546-4e3e-9fe2-5a0b3b63326c')\"\n",
              "              title=\"Convert this dataframe to an interactive table.\"\n",
              "              style=\"display:none;\">\n",
              "        \n",
              "  <svg xmlns=\"http://www.w3.org/2000/svg\" height=\"24px\"viewBox=\"0 0 24 24\"\n",
              "       width=\"24px\">\n",
              "    <path d=\"M0 0h24v24H0V0z\" fill=\"none\"/>\n",
              "    <path d=\"M18.56 5.44l.94 2.06.94-2.06 2.06-.94-2.06-.94-.94-2.06-.94 2.06-2.06.94zm-11 1L8.5 8.5l.94-2.06 2.06-.94-2.06-.94L8.5 2.5l-.94 2.06-2.06.94zm10 10l.94 2.06.94-2.06 2.06-.94-2.06-.94-.94-2.06-.94 2.06-2.06.94z\"/><path d=\"M17.41 7.96l-1.37-1.37c-.4-.4-.92-.59-1.43-.59-.52 0-1.04.2-1.43.59L10.3 9.45l-7.72 7.72c-.78.78-.78 2.05 0 2.83L4 21.41c.39.39.9.59 1.41.59.51 0 1.02-.2 1.41-.59l7.78-7.78 2.81-2.81c.8-.78.8-2.07 0-2.86zM5.41 20L4 18.59l7.72-7.72 1.47 1.35L5.41 20z\"/>\n",
              "  </svg>\n",
              "      </button>\n",
              "      \n",
              "  <style>\n",
              "    .colab-df-container {\n",
              "      display:flex;\n",
              "      flex-wrap:wrap;\n",
              "      gap: 12px;\n",
              "    }\n",
              "\n",
              "    .colab-df-convert {\n",
              "      background-color: #E8F0FE;\n",
              "      border: none;\n",
              "      border-radius: 50%;\n",
              "      cursor: pointer;\n",
              "      display: none;\n",
              "      fill: #1967D2;\n",
              "      height: 32px;\n",
              "      padding: 0 0 0 0;\n",
              "      width: 32px;\n",
              "    }\n",
              "\n",
              "    .colab-df-convert:hover {\n",
              "      background-color: #E2EBFA;\n",
              "      box-shadow: 0px 1px 2px rgba(60, 64, 67, 0.3), 0px 1px 3px 1px rgba(60, 64, 67, 0.15);\n",
              "      fill: #174EA6;\n",
              "    }\n",
              "\n",
              "    [theme=dark] .colab-df-convert {\n",
              "      background-color: #3B4455;\n",
              "      fill: #D2E3FC;\n",
              "    }\n",
              "\n",
              "    [theme=dark] .colab-df-convert:hover {\n",
              "      background-color: #434B5C;\n",
              "      box-shadow: 0px 1px 3px 1px rgba(0, 0, 0, 0.15);\n",
              "      filter: drop-shadow(0px 1px 2px rgba(0, 0, 0, 0.3));\n",
              "      fill: #FFFFFF;\n",
              "    }\n",
              "  </style>\n",
              "\n",
              "      <script>\n",
              "        const buttonEl =\n",
              "          document.querySelector('#df-85f50e54-3546-4e3e-9fe2-5a0b3b63326c button.colab-df-convert');\n",
              "        buttonEl.style.display =\n",
              "          google.colab.kernel.accessAllowed ? 'block' : 'none';\n",
              "\n",
              "        async function convertToInteractive(key) {\n",
              "          const element = document.querySelector('#df-85f50e54-3546-4e3e-9fe2-5a0b3b63326c');\n",
              "          const dataTable =\n",
              "            await google.colab.kernel.invokeFunction('convertToInteractive',\n",
              "                                                     [key], {});\n",
              "          if (!dataTable) return;\n",
              "\n",
              "          const docLinkHtml = 'Like what you see? Visit the ' +\n",
              "            '<a target=\"_blank\" href=https://colab.research.google.com/notebooks/data_table.ipynb>data table notebook</a>'\n",
              "            + ' to learn more about interactive tables.';\n",
              "          element.innerHTML = '';\n",
              "          dataTable['output_type'] = 'display_data';\n",
              "          await google.colab.output.renderOutput(dataTable, element);\n",
              "          const docLink = document.createElement('div');\n",
              "          docLink.innerHTML = docLinkHtml;\n",
              "          element.appendChild(docLink);\n",
              "        }\n",
              "      </script>\n",
              "    </div>\n",
              "  </div>\n",
              "  "
            ]
          },
          "metadata": {},
          "execution_count": 11
        }
      ]
    },
    {
      "cell_type": "markdown",
      "source": [
        "1) New balance of origin should be less than old balance of origin by amount of transaction.\n",
        "\n",
        "\n",
        "\n",
        "\n",
        "newbalanceOrig = oldbalanceOrig - amount\n",
        "\n",
        "\n",
        "\n",
        "\n",
        "errorAtOrig = amount + newbalanceOrig - oldbalanceOrig\n",
        "\n",
        "\n",
        "\n",
        "2) New Balance of destination should be greater than old balance of destination by amount of transaction.\n",
        "\n",
        "\n",
        "\n",
        "\n",
        "newbalancedest = oldbalancedest - amount\n",
        "\n",
        "\n",
        "\n",
        "\n",
        "errorAtdest = amount + newbalancedest - oldbalancedest"
      ],
      "metadata": {
        "id": "0lk3kW7DOsph"
      }
    },
    {
      "cell_type": "code",
      "source": [
        "X['errorAtOrig'] = X.newbalanceOrig + X.amount - X.oldbalanceOrg\n",
        "X['errorAtDest'] = X.oldbalanceDest + X.amount - X.newbalanceDest\n",
        "X.head(10)"
      ],
      "metadata": {
        "colab": {
          "base_uri": "https://localhost:8080/",
          "height": 427
        },
        "id": "5xYcuMpxQrQX",
        "outputId": "d09b34eb-1b99-42ce-bc8b-c477bea7de92"
      },
      "execution_count": null,
      "outputs": [
        {
          "output_type": "execute_result",
          "data": {
            "text/plain": [
              "    step  type     amount  oldbalanceOrg  newbalanceOrig  oldbalanceDest  \\\n",
              "2      1     0     181.00         181.00             0.0             0.0   \n",
              "3      1     1     181.00         181.00             0.0         21182.0   \n",
              "15     1     1  229133.94       15325.00             0.0          5083.0   \n",
              "19     1     0  215310.30         705.00             0.0         22425.0   \n",
              "24     1     0  311685.89       10835.00             0.0          6267.0   \n",
              "42     1     1  110414.71       26845.41             0.0        288800.0   \n",
              "47     1     1   56953.90        1942.02             0.0         70253.0   \n",
              "48     1     1    5346.89           0.00             0.0        652637.0   \n",
              "51     1     1   23261.30       20411.53             0.0         25742.0   \n",
              "58     1     0   62610.80       79114.00         16503.2           517.0   \n",
              "\n",
              "    newbalanceDest  isFraud  errorAtOrig  errorAtDest  \n",
              "2             0.00      1.0         0.00       181.00  \n",
              "3             0.00      1.0         0.00     21363.00  \n",
              "15        51513.44      0.0    213808.94    182703.50  \n",
              "19            0.00      0.0    214605.30    237735.30  \n",
              "24      2719172.89      0.0    300850.89  -2401220.00  \n",
              "42         2415.16      0.0     83569.30    396799.55  \n",
              "47        64106.18      0.0     55011.88     63100.72  \n",
              "48      6453430.91      0.0      5346.89  -5795447.02  \n",
              "51            0.00      0.0      2849.77     49003.30  \n",
              "58         8383.29      0.0         0.00     54744.51  "
            ],
            "text/html": [
              "\n",
              "  <div id=\"df-6b163efd-479d-4f6f-9228-8ab753f79a56\">\n",
              "    <div class=\"colab-df-container\">\n",
              "      <div>\n",
              "<style scoped>\n",
              "    .dataframe tbody tr th:only-of-type {\n",
              "        vertical-align: middle;\n",
              "    }\n",
              "\n",
              "    .dataframe tbody tr th {\n",
              "        vertical-align: top;\n",
              "    }\n",
              "\n",
              "    .dataframe thead th {\n",
              "        text-align: right;\n",
              "    }\n",
              "</style>\n",
              "<table border=\"1\" class=\"dataframe\">\n",
              "  <thead>\n",
              "    <tr style=\"text-align: right;\">\n",
              "      <th></th>\n",
              "      <th>step</th>\n",
              "      <th>type</th>\n",
              "      <th>amount</th>\n",
              "      <th>oldbalanceOrg</th>\n",
              "      <th>newbalanceOrig</th>\n",
              "      <th>oldbalanceDest</th>\n",
              "      <th>newbalanceDest</th>\n",
              "      <th>isFraud</th>\n",
              "      <th>errorAtOrig</th>\n",
              "      <th>errorAtDest</th>\n",
              "    </tr>\n",
              "  </thead>\n",
              "  <tbody>\n",
              "    <tr>\n",
              "      <th>2</th>\n",
              "      <td>1</td>\n",
              "      <td>0</td>\n",
              "      <td>181.00</td>\n",
              "      <td>181.00</td>\n",
              "      <td>0.0</td>\n",
              "      <td>0.0</td>\n",
              "      <td>0.00</td>\n",
              "      <td>1.0</td>\n",
              "      <td>0.00</td>\n",
              "      <td>181.00</td>\n",
              "    </tr>\n",
              "    <tr>\n",
              "      <th>3</th>\n",
              "      <td>1</td>\n",
              "      <td>1</td>\n",
              "      <td>181.00</td>\n",
              "      <td>181.00</td>\n",
              "      <td>0.0</td>\n",
              "      <td>21182.0</td>\n",
              "      <td>0.00</td>\n",
              "      <td>1.0</td>\n",
              "      <td>0.00</td>\n",
              "      <td>21363.00</td>\n",
              "    </tr>\n",
              "    <tr>\n",
              "      <th>15</th>\n",
              "      <td>1</td>\n",
              "      <td>1</td>\n",
              "      <td>229133.94</td>\n",
              "      <td>15325.00</td>\n",
              "      <td>0.0</td>\n",
              "      <td>5083.0</td>\n",
              "      <td>51513.44</td>\n",
              "      <td>0.0</td>\n",
              "      <td>213808.94</td>\n",
              "      <td>182703.50</td>\n",
              "    </tr>\n",
              "    <tr>\n",
              "      <th>19</th>\n",
              "      <td>1</td>\n",
              "      <td>0</td>\n",
              "      <td>215310.30</td>\n",
              "      <td>705.00</td>\n",
              "      <td>0.0</td>\n",
              "      <td>22425.0</td>\n",
              "      <td>0.00</td>\n",
              "      <td>0.0</td>\n",
              "      <td>214605.30</td>\n",
              "      <td>237735.30</td>\n",
              "    </tr>\n",
              "    <tr>\n",
              "      <th>24</th>\n",
              "      <td>1</td>\n",
              "      <td>0</td>\n",
              "      <td>311685.89</td>\n",
              "      <td>10835.00</td>\n",
              "      <td>0.0</td>\n",
              "      <td>6267.0</td>\n",
              "      <td>2719172.89</td>\n",
              "      <td>0.0</td>\n",
              "      <td>300850.89</td>\n",
              "      <td>-2401220.00</td>\n",
              "    </tr>\n",
              "    <tr>\n",
              "      <th>42</th>\n",
              "      <td>1</td>\n",
              "      <td>1</td>\n",
              "      <td>110414.71</td>\n",
              "      <td>26845.41</td>\n",
              "      <td>0.0</td>\n",
              "      <td>288800.0</td>\n",
              "      <td>2415.16</td>\n",
              "      <td>0.0</td>\n",
              "      <td>83569.30</td>\n",
              "      <td>396799.55</td>\n",
              "    </tr>\n",
              "    <tr>\n",
              "      <th>47</th>\n",
              "      <td>1</td>\n",
              "      <td>1</td>\n",
              "      <td>56953.90</td>\n",
              "      <td>1942.02</td>\n",
              "      <td>0.0</td>\n",
              "      <td>70253.0</td>\n",
              "      <td>64106.18</td>\n",
              "      <td>0.0</td>\n",
              "      <td>55011.88</td>\n",
              "      <td>63100.72</td>\n",
              "    </tr>\n",
              "    <tr>\n",
              "      <th>48</th>\n",
              "      <td>1</td>\n",
              "      <td>1</td>\n",
              "      <td>5346.89</td>\n",
              "      <td>0.00</td>\n",
              "      <td>0.0</td>\n",
              "      <td>652637.0</td>\n",
              "      <td>6453430.91</td>\n",
              "      <td>0.0</td>\n",
              "      <td>5346.89</td>\n",
              "      <td>-5795447.02</td>\n",
              "    </tr>\n",
              "    <tr>\n",
              "      <th>51</th>\n",
              "      <td>1</td>\n",
              "      <td>1</td>\n",
              "      <td>23261.30</td>\n",
              "      <td>20411.53</td>\n",
              "      <td>0.0</td>\n",
              "      <td>25742.0</td>\n",
              "      <td>0.00</td>\n",
              "      <td>0.0</td>\n",
              "      <td>2849.77</td>\n",
              "      <td>49003.30</td>\n",
              "    </tr>\n",
              "    <tr>\n",
              "      <th>58</th>\n",
              "      <td>1</td>\n",
              "      <td>0</td>\n",
              "      <td>62610.80</td>\n",
              "      <td>79114.00</td>\n",
              "      <td>16503.2</td>\n",
              "      <td>517.0</td>\n",
              "      <td>8383.29</td>\n",
              "      <td>0.0</td>\n",
              "      <td>0.00</td>\n",
              "      <td>54744.51</td>\n",
              "    </tr>\n",
              "  </tbody>\n",
              "</table>\n",
              "</div>\n",
              "      <button class=\"colab-df-convert\" onclick=\"convertToInteractive('df-6b163efd-479d-4f6f-9228-8ab753f79a56')\"\n",
              "              title=\"Convert this dataframe to an interactive table.\"\n",
              "              style=\"display:none;\">\n",
              "        \n",
              "  <svg xmlns=\"http://www.w3.org/2000/svg\" height=\"24px\"viewBox=\"0 0 24 24\"\n",
              "       width=\"24px\">\n",
              "    <path d=\"M0 0h24v24H0V0z\" fill=\"none\"/>\n",
              "    <path d=\"M18.56 5.44l.94 2.06.94-2.06 2.06-.94-2.06-.94-.94-2.06-.94 2.06-2.06.94zm-11 1L8.5 8.5l.94-2.06 2.06-.94-2.06-.94L8.5 2.5l-.94 2.06-2.06.94zm10 10l.94 2.06.94-2.06 2.06-.94-2.06-.94-.94-2.06-.94 2.06-2.06.94z\"/><path d=\"M17.41 7.96l-1.37-1.37c-.4-.4-.92-.59-1.43-.59-.52 0-1.04.2-1.43.59L10.3 9.45l-7.72 7.72c-.78.78-.78 2.05 0 2.83L4 21.41c.39.39.9.59 1.41.59.51 0 1.02-.2 1.41-.59l7.78-7.78 2.81-2.81c.8-.78.8-2.07 0-2.86zM5.41 20L4 18.59l7.72-7.72 1.47 1.35L5.41 20z\"/>\n",
              "  </svg>\n",
              "      </button>\n",
              "      \n",
              "  <style>\n",
              "    .colab-df-container {\n",
              "      display:flex;\n",
              "      flex-wrap:wrap;\n",
              "      gap: 12px;\n",
              "    }\n",
              "\n",
              "    .colab-df-convert {\n",
              "      background-color: #E8F0FE;\n",
              "      border: none;\n",
              "      border-radius: 50%;\n",
              "      cursor: pointer;\n",
              "      display: none;\n",
              "      fill: #1967D2;\n",
              "      height: 32px;\n",
              "      padding: 0 0 0 0;\n",
              "      width: 32px;\n",
              "    }\n",
              "\n",
              "    .colab-df-convert:hover {\n",
              "      background-color: #E2EBFA;\n",
              "      box-shadow: 0px 1px 2px rgba(60, 64, 67, 0.3), 0px 1px 3px 1px rgba(60, 64, 67, 0.15);\n",
              "      fill: #174EA6;\n",
              "    }\n",
              "\n",
              "    [theme=dark] .colab-df-convert {\n",
              "      background-color: #3B4455;\n",
              "      fill: #D2E3FC;\n",
              "    }\n",
              "\n",
              "    [theme=dark] .colab-df-convert:hover {\n",
              "      background-color: #434B5C;\n",
              "      box-shadow: 0px 1px 3px 1px rgba(0, 0, 0, 0.15);\n",
              "      filter: drop-shadow(0px 1px 2px rgba(0, 0, 0, 0.3));\n",
              "      fill: #FFFFFF;\n",
              "    }\n",
              "  </style>\n",
              "\n",
              "      <script>\n",
              "        const buttonEl =\n",
              "          document.querySelector('#df-6b163efd-479d-4f6f-9228-8ab753f79a56 button.colab-df-convert');\n",
              "        buttonEl.style.display =\n",
              "          google.colab.kernel.accessAllowed ? 'block' : 'none';\n",
              "\n",
              "        async function convertToInteractive(key) {\n",
              "          const element = document.querySelector('#df-6b163efd-479d-4f6f-9228-8ab753f79a56');\n",
              "          const dataTable =\n",
              "            await google.colab.kernel.invokeFunction('convertToInteractive',\n",
              "                                                     [key], {});\n",
              "          if (!dataTable) return;\n",
              "\n",
              "          const docLinkHtml = 'Like what you see? Visit the ' +\n",
              "            '<a target=\"_blank\" href=https://colab.research.google.com/notebooks/data_table.ipynb>data table notebook</a>'\n",
              "            + ' to learn more about interactive tables.';\n",
              "          element.innerHTML = '';\n",
              "          dataTable['output_type'] = 'display_data';\n",
              "          await google.colab.output.renderOutput(dataTable, element);\n",
              "          const docLink = document.createElement('div');\n",
              "          docLink.innerHTML = docLinkHtml;\n",
              "          element.appendChild(docLink);\n",
              "        }\n",
              "      </script>\n",
              "    </div>\n",
              "  </div>\n",
              "  "
            ]
          },
          "metadata": {},
          "execution_count": 12
        }
      ]
    },
    {
      "cell_type": "markdown",
      "source": [
        "\n",
        "\n",
        "The best result is obtained on the dataset by using a ML algorithm based on ensembles of decision trees that intrinsically performs well on imbalanced data. Such algorithms not only allow for constructing a model that can cope with the missing values in our data, but they naturally allow for speedup via parallel-processing. Among these algorithms, the extreme gradient-boosted (XGBoost) algorithm used below slightly outperforms random-forest. Finally, XGBoost, like several other ML algorithms, allows for weighting the positive class more compared to the negative class."
      ],
      "metadata": {
        "id": "h9k8i5WCd_aB"
      }
    },
    {
      "cell_type": "code",
      "source": [
        "from sklearn.model_selection import train_test_split\n",
        "del X['isFraud']\n",
        "randomState = 5\n",
        "np.random.seed(randomState)\n",
        "trainX, testX, trainY, testY = train_test_split(X, Y, test_size = 0.2, \\\n",
        "                                                random_state = randomState)\n"
      ],
      "metadata": {
        "id": "rY4XdAsOXPag"
      },
      "execution_count": null,
      "outputs": []
    },
    {
      "cell_type": "markdown",
      "source": [
        "Since the data is highly skewed, I use the area under the precision-recall curve (AUPRC) as it is more sensitive to differences between algorithms and their parameter settings."
      ],
      "metadata": {
        "id": "mjG4Rp0JeoRH"
      }
    },
    {
      "cell_type": "code",
      "source": [
        "from sklearn.metrics import average_precision_score\n",
        "from xgboost.sklearn import XGBClassifier\n",
        "weights = (Y == 0).sum() / (1.0 * (Y == 1).sum())\n",
        "clf = XGBClassifier(max_depth = 3, scale_pos_weight = weights, \\\n",
        "                n_jobs = 4)\n",
        "probabilities = clf.fit(trainX, trainY).predict_proba(testX)\n",
        "print('AUPRC = {}'.format(average_precision_score(testY, \\\n",
        "                                              probabilities[:, 1])))"
      ],
      "metadata": {
        "colab": {
          "base_uri": "https://localhost:8080/"
        },
        "id": "67zF_yLGaNtU",
        "outputId": "768795d4-4436-4a0a-c11f-402011e53b0f"
      },
      "execution_count": null,
      "outputs": [
        {
          "output_type": "stream",
          "name": "stdout",
          "text": [
            "AUPRC = 0.9481834169776517\n"
          ]
        }
      ]
    },
    {
      "cell_type": "code",
      "source": [
        "import matplotlib.pyplot as plt\n",
        "from xgboost import plot_importance\n",
        "fig = plt.figure(figsize = (14, 9))\n",
        "ax = fig.add_subplot(111)\n",
        "\n",
        "colours = plt.cm.Set1(np.linspace(0, 1, 9))\n",
        "\n",
        "ax = plot_importance(clf, height = 1, color = colours, grid = False, \\\n",
        "                     show_values = False, importance_type = 'cover', ax = ax);\n",
        "for axis in ['top','bottom','left','right']:\n",
        "            ax.spines[axis].set_linewidth(2)\n",
        "        \n",
        "ax.set_xlabel('importance score', size = 16);\n",
        "ax.set_ylabel('features', size = 16);\n",
        "ax.set_yticklabels(ax.get_yticklabels(), size = 12);\n",
        "ax.set_title('Ordering of features by importance to the model learnt', size = 20);"
      ],
      "metadata": {
        "colab": {
          "base_uri": "https://localhost:8080/",
          "height": 542
        },
        "id": "v6OB_kIlW05Q",
        "outputId": "b2e96d6b-9d7b-4c4c-baa0-16cd0aefe78a"
      },
      "execution_count": null,
      "outputs": [
        {
          "output_type": "display_data",
          "data": {
            "text/plain": [
              "<Figure size 1008x648 with 1 Axes>"
            ],
            "image/png": "[encoded data removed]"
          },
          "metadata": {
            "needs_background": "light"
          }
        }
      ]
    },
    {
      "cell_type": "code",
      "source": [
        "from xgboost import to_graphviz\n",
        "to_graphviz(clf)"
      ],
      "metadata": {
        "colab": {
          "base_uri": "https://localhost:8080/",
          "height": 448
        },
        "id": "1tTSwmeOa80X",
        "outputId": "1272a1d4-1bae-44b4-cff6-c30ce4ff1e17"
      },
      "execution_count": null,
      "outputs": [
        {
          "output_type": "execute_result",
          "data": {
            "text/plain": [
              "<graphviz.dot.Digraph at 0x7fcf6123e6d0>"
            ],
            "image/svg+xml": "<?xml version=\"1.0\" encoding=\"UTF-8\" standalone=\"no\"?>\n<!DOCTYPE svg PUBLIC \"-//W3C//DTD SVG 1.1//EN\"\n \"http://www.w3.org/Graphics/SVG/1.1/DTD/svg11.dtd\">\n<!-- Generated by graphviz version 2.40.1 (20161225.0304)\n -->\n<!-- Title: %3 Pages: 1 -->\n<svg width=\"1091pt\" height=\"305pt\"\n viewBox=\"0.00 0.00 1090.79 305.00\" xmlns=\"http://www.w3.org/2000/svg\" xmlns:xlink=\"http://www.w3.org/1999/xlink\">\n<g id=\"graph0\" class=\"graph\" transform=\"scale(1 1) rotate(0) translate(4 301)\">\n<title>%3</title>\n<polygon fill=\"#ffffff\" stroke=\"transparent\" points=\"-4,4 -4,-301 1086.7855,-301 1086.7855,4 -4,4\"/>\n<!-- 0 -->\n<g id=\"node1\" class=\"node\">\n<title>0</title>\n<ellipse fill=\"none\" stroke=\"#000000\" cx=\"368.5928\" cy=\"-279\" rx=\"122.6784\" ry=\"18\"/>\n<text text-anchor=\"middle\" x=\"368.5928\" y=\"-275.3\" font-family=\"Times,serif\" font-size=\"14.00\" fill=\"#000000\">errorAtOrig&lt;3.63797881e&#45;12</text>\n</g>\n<!-- 1 -->\n<g id=\"node2\" class=\"node\">\n<title>1</title>\n<ellipse fill=\"none\" stroke=\"#000000\" cx=\"270.5928\" cy=\"-192\" rx=\"122.6784\" ry=\"18\"/>\n<text text-anchor=\"middle\" x=\"270.5928\" y=\"-188.3\" font-family=\"Times,serif\" font-size=\"14.00\" fill=\"#000000\">newbalanceOrig&lt;30.7749996</text>\n</g>\n<!-- 0&#45;&gt;1 -->\n<g id=\"edge1\" class=\"edge\">\n<title>0&#45;&gt;1</title>\n<path fill=\"none\" stroke=\"#0000ff\" d=\"M348.2872,-260.9735C333.9646,-248.2586 314.5918,-231.0603 298.7743,-217.0183\"/>\n<polygon fill=\"#0000ff\" stroke=\"#0000ff\" points=\"300.6745,-214.0249 290.8725,-210.0034 296.0272,-219.2597 300.6745,-214.0249\"/>\n<text text-anchor=\"middle\" x=\"361.0928\" y=\"-231.8\" font-family=\"Times,serif\" font-size=\"14.00\" fill=\"#000000\">yes, missing</text>\n</g>\n<!-- 2 -->\n<g id=\"node3\" class=\"node\">\n<title>2</title>\n<ellipse fill=\"none\" stroke=\"#000000\" cx=\"530.5928\" cy=\"-192\" rx=\"35.9954\" ry=\"18\"/>\n<text text-anchor=\"middle\" x=\"530.5928\" y=\"-188.3\" font-family=\"Times,serif\" font-size=\"14.00\" fill=\"#000000\">step&lt;2</text>\n</g>\n<!-- 0&#45;&gt;2 -->\n<g id=\"edge2\" class=\"edge\">\n<title>0&#45;&gt;2</title>\n<path fill=\"none\" stroke=\"#ff0000\" d=\"M400.9866,-261.6033C428.7774,-246.6787 468.6818,-225.2485 496.8545,-210.1187\"/>\n<polygon fill=\"#ff0000\" stroke=\"#ff0000\" points=\"498.7705,-213.0626 505.9245,-205.2478 495.4586,-206.8956 498.7705,-213.0626\"/>\n<text text-anchor=\"middle\" x=\"467.5928\" y=\"-231.8\" font-family=\"Times,serif\" font-size=\"14.00\" fill=\"#000000\">no</text>\n</g>\n<!-- 3 -->\n<g id=\"node4\" class=\"node\">\n<title>3</title>\n<ellipse fill=\"none\" stroke=\"#000000\" cx=\"80.5928\" cy=\"-105\" rx=\"80.6858\" ry=\"18\"/>\n<text text-anchor=\"middle\" x=\"80.5928\" y=\"-101.3\" font-family=\"Times,serif\" font-size=\"14.00\" fill=\"#000000\">leaf=0.199961483</text>\n</g>\n<!-- 1&#45;&gt;3 -->\n<g id=\"edge3\" class=\"edge\">\n<title>1&#45;&gt;3</title>\n<path fill=\"none\" stroke=\"#0000ff\" d=\"M233.055,-174.8116C202.1474,-160.6592 158.2418,-140.555 125.4784,-125.5529\"/>\n<polygon fill=\"#0000ff\" stroke=\"#0000ff\" points=\"126.6742,-122.251 116.1249,-121.2699 123.7599,-128.6155 126.6742,-122.251\"/>\n<text text-anchor=\"middle\" x=\"223.0928\" y=\"-144.8\" font-family=\"Times,serif\" font-size=\"14.00\" fill=\"#000000\">yes, missing</text>\n</g>\n<!-- 4 -->\n<g id=\"node5\" class=\"node\">\n<title>4</title>\n<ellipse fill=\"none\" stroke=\"#000000\" cx=\"270.5928\" cy=\"-105\" rx=\"90.9839\" ry=\"18\"/>\n<text text-anchor=\"middle\" x=\"270.5928\" y=\"-101.3\" font-family=\"Times,serif\" font-size=\"14.00\" fill=\"#000000\">amount&lt;971960.125</text>\n</g>\n<!-- 1&#45;&gt;4 -->\n<g id=\"edge4\" class=\"edge\">\n<title>1&#45;&gt;4</title>\n<path fill=\"none\" stroke=\"#ff0000\" d=\"M270.5928,-173.9735C270.5928,-162.1918 270.5928,-146.5607 270.5928,-133.1581\"/>\n<polygon fill=\"#ff0000\" stroke=\"#ff0000\" points=\"274.0929,-133.0033 270.5928,-123.0034 267.0929,-133.0034 274.0929,-133.0033\"/>\n<text text-anchor=\"middle\" x=\"278.5928\" y=\"-144.8\" font-family=\"Times,serif\" font-size=\"14.00\" fill=\"#000000\">no</text>\n</g>\n<!-- 5 -->\n<g id=\"node8\" class=\"node\">\n<title>5</title>\n<ellipse fill=\"none\" stroke=\"#000000\" cx=\"530.5928\" cy=\"-105\" rx=\"87.1846\" ry=\"18\"/>\n<text text-anchor=\"middle\" x=\"530.5928\" y=\"-101.3\" font-family=\"Times,serif\" font-size=\"14.00\" fill=\"#000000\">oldbalanceDest&lt;162</text>\n</g>\n<!-- 2&#45;&gt;5 -->\n<g id=\"edge7\" class=\"edge\">\n<title>2&#45;&gt;5</title>\n<path fill=\"none\" stroke=\"#0000ff\" d=\"M530.5928,-173.9735C530.5928,-162.1918 530.5928,-146.5607 530.5928,-133.1581\"/>\n<polygon fill=\"#0000ff\" stroke=\"#0000ff\" points=\"534.0929,-133.0033 530.5928,-123.0034 527.0929,-133.0034 534.0929,-133.0033\"/>\n<text text-anchor=\"middle\" x=\"566.0928\" y=\"-144.8\" font-family=\"Times,serif\" font-size=\"14.00\" fill=\"#000000\">yes, missing</text>\n</g>\n<!-- 6 -->\n<g id=\"node9\" class=\"node\">\n<title>6</title>\n<ellipse fill=\"none\" stroke=\"#000000\" cx=\"815.5928\" cy=\"-105\" rx=\"101.2821\" ry=\"18\"/>\n<text text-anchor=\"middle\" x=\"815.5928\" y=\"-101.3\" font-family=\"Times,serif\" font-size=\"14.00\" fill=\"#000000\">errorAtOrig&lt;1077563.5</text>\n</g>\n<!-- 2&#45;&gt;6 -->\n<g id=\"edge8\" class=\"edge\">\n<title>2&#45;&gt;6</title>\n<path fill=\"none\" stroke=\"#ff0000\" d=\"M561.3636,-182.6068C607.5163,-168.5181 695.5728,-141.6377 754.9455,-123.5134\"/>\n<polygon fill=\"#ff0000\" stroke=\"#ff0000\" points=\"756.04,-126.8388 764.5824,-120.5716 753.9962,-120.1438 756.04,-126.8388\"/>\n<text text-anchor=\"middle\" x=\"698.5928\" y=\"-144.8\" font-family=\"Times,serif\" font-size=\"14.00\" fill=\"#000000\">no</text>\n</g>\n<!-- 7 -->\n<g id=\"node6\" class=\"node\">\n<title>7</title>\n<ellipse fill=\"none\" stroke=\"#000000\" cx=\"88.5928\" cy=\"-18\" rx=\"83.3857\" ry=\"18\"/>\n<text text-anchor=\"middle\" x=\"88.5928\" y=\"-14.3\" font-family=\"Times,serif\" font-size=\"14.00\" fill=\"#000000\">leaf=&#45;0.199589536</text>\n</g>\n<!-- 4&#45;&gt;7 -->\n<g id=\"edge5\" class=\"edge\">\n<title>4&#45;&gt;7</title>\n<path fill=\"none\" stroke=\"#0000ff\" d=\"M235.5014,-88.2255C205.9808,-74.114 163.6441,-53.8761 131.9963,-38.7478\"/>\n<polygon fill=\"#0000ff\" stroke=\"#0000ff\" points=\"133.491,-35.583 122.9593,-34.4279 130.472,-41.8986 133.491,-35.583\"/>\n<text text-anchor=\"middle\" x=\"226.0928\" y=\"-57.8\" font-family=\"Times,serif\" font-size=\"14.00\" fill=\"#000000\">yes, missing</text>\n</g>\n<!-- 8 -->\n<g id=\"node7\" class=\"node\">\n<title>8</title>\n<ellipse fill=\"none\" stroke=\"#000000\" cx=\"270.5928\" cy=\"-18\" rx=\"80.6858\" ry=\"18\"/>\n<text text-anchor=\"middle\" x=\"270.5928\" y=\"-14.3\" font-family=\"Times,serif\" font-size=\"14.00\" fill=\"#000000\">leaf=0.166206658</text>\n</g>\n<!-- 4&#45;&gt;8 -->\n<g id=\"edge6\" class=\"edge\">\n<title>4&#45;&gt;8</title>\n<path fill=\"none\" stroke=\"#ff0000\" d=\"M270.5928,-86.9735C270.5928,-75.1918 270.5928,-59.5607 270.5928,-46.1581\"/>\n<polygon fill=\"#ff0000\" stroke=\"#ff0000\" points=\"274.0929,-46.0033 270.5928,-36.0034 267.0929,-46.0034 274.0929,-46.0033\"/>\n<text text-anchor=\"middle\" x=\"278.5928\" y=\"-57.8\" font-family=\"Times,serif\" font-size=\"14.00\" fill=\"#000000\">no</text>\n</g>\n<!-- 9 -->\n<g id=\"node10\" class=\"node\">\n<title>9</title>\n<ellipse fill=\"none\" stroke=\"#000000\" cx=\"449.5928\" cy=\"-18\" rx=\"80.6858\" ry=\"18\"/>\n<text text-anchor=\"middle\" x=\"449.5928\" y=\"-14.3\" font-family=\"Times,serif\" font-size=\"14.00\" fill=\"#000000\">leaf=0.186757192</text>\n</g>\n<!-- 5&#45;&gt;9 -->\n<g id=\"edge9\" class=\"edge\">\n<title>5&#45;&gt;9</title>\n<path fill=\"none\" stroke=\"#0000ff\" d=\"M513.8096,-86.9735C502.0019,-74.2912 486.0416,-57.1486 472.9865,-43.1265\"/>\n<polygon fill=\"#0000ff\" stroke=\"#0000ff\" points=\"475.4533,-40.6397 466.0775,-35.7057 470.33,-45.4096 475.4533,-40.6397\"/>\n<text text-anchor=\"middle\" x=\"531.0928\" y=\"-57.8\" font-family=\"Times,serif\" font-size=\"14.00\" fill=\"#000000\">yes, missing</text>\n</g>\n<!-- 10 -->\n<g id=\"node11\" class=\"node\">\n<title>10</title>\n<ellipse fill=\"none\" stroke=\"#000000\" cx=\"631.5928\" cy=\"-18\" rx=\"83.3857\" ry=\"18\"/>\n<text text-anchor=\"middle\" x=\"631.5928\" y=\"-14.3\" font-family=\"Times,serif\" font-size=\"14.00\" fill=\"#000000\">leaf=&#45;0.198294252</text>\n</g>\n<!-- 5&#45;&gt;10 -->\n<g id=\"edge10\" class=\"edge\">\n<title>5&#45;&gt;10</title>\n<path fill=\"none\" stroke=\"#ff0000\" d=\"M551.0317,-87.3943C566.0906,-74.4228 586.7566,-56.6213 603.3869,-42.2962\"/>\n<polygon fill=\"#ff0000\" stroke=\"#ff0000\" points=\"605.892,-44.7579 611.1844,-35.5796 601.3234,-39.4542 605.892,-44.7579\"/>\n<text text-anchor=\"middle\" x=\"595.5928\" y=\"-57.8\" font-family=\"Times,serif\" font-size=\"14.00\" fill=\"#000000\">no</text>\n</g>\n<!-- 11 -->\n<g id=\"node12\" class=\"node\">\n<title>11</title>\n<ellipse fill=\"none\" stroke=\"#000000\" cx=\"815.5928\" cy=\"-18\" rx=\"83.3857\" ry=\"18\"/>\n<text text-anchor=\"middle\" x=\"815.5928\" y=\"-14.3\" font-family=\"Times,serif\" font-size=\"14.00\" fill=\"#000000\">leaf=&#45;0.199954137</text>\n</g>\n<!-- 6&#45;&gt;11 -->\n<g id=\"edge11\" class=\"edge\">\n<title>6&#45;&gt;11</title>\n<path fill=\"none\" stroke=\"#0000ff\" d=\"M815.5928,-86.9735C815.5928,-75.1918 815.5928,-59.5607 815.5928,-46.1581\"/>\n<polygon fill=\"#0000ff\" stroke=\"#0000ff\" points=\"819.0929,-46.0033 815.5928,-36.0034 812.0929,-46.0034 819.0929,-46.0033\"/>\n<text text-anchor=\"middle\" x=\"851.0928\" y=\"-57.8\" font-family=\"Times,serif\" font-size=\"14.00\" fill=\"#000000\">yes, missing</text>\n</g>\n<!-- 12 -->\n<g id=\"node13\" class=\"node\">\n<title>12</title>\n<ellipse fill=\"none\" stroke=\"#000000\" cx=\"999.5928\" cy=\"-18\" rx=\"83.3857\" ry=\"18\"/>\n<text text-anchor=\"middle\" x=\"999.5928\" y=\"-14.3\" font-family=\"Times,serif\" font-size=\"14.00\" fill=\"#000000\">leaf=&#45;0.134763524</text>\n</g>\n<!-- 6&#45;&gt;12 -->\n<g id=\"edge12\" class=\"edge\">\n<title>6&#45;&gt;12</title>\n<path fill=\"none\" stroke=\"#ff0000\" d=\"M851.5067,-88.019C881.3007,-73.9316 923.785,-53.8439 955.614,-38.7944\"/>\n<polygon fill=\"#ff0000\" stroke=\"#ff0000\" points=\"957.1615,-41.9342 964.7058,-34.4955 954.1693,-35.606 957.1615,-41.9342\"/>\n<text text-anchor=\"middle\" x=\"926.5928\" y=\"-57.8\" font-family=\"Times,serif\" font-size=\"14.00\" fill=\"#000000\">no</text>\n</g>\n</g>\n</svg>\n"
          },
          "metadata": {},
          "execution_count": 16
        }
      ]
    },
    {
      "cell_type": "markdown",
      "source": [
        "Performance Analysis using learning curves"
      ],
      "metadata": {
        "id": "jTPbwLLhhjMX"
      }
    },
    {
      "cell_type": "code",
      "source": [
        "\n",
        "from sklearn.model_selection import learning_curve\n",
        "trainSizes, trainScores, crossValScores = learning_curve(\\\n",
        "XGBClassifier(max_depth = 3, scale_pos_weight = weights, n_jobs = 4), trainX,\\\n",
        "                                         trainY, scoring = 'average_precision')"
      ],
      "metadata": {
        "id": "moW8EID9bh8T"
      },
      "execution_count": null,
      "outputs": []
    },
    {
      "cell_type": "code",
      "source": [
        "trainScoresMean = np.mean(trainScores, axis=1)\n",
        "trainScoresStd = np.std(trainScores, axis=1)\n",
        "crossValScoresMean = np.mean(crossValScores, axis=1)\n",
        "crossValScoresStd = np.std(crossValScores, axis=1)\n",
        "\n",
        "colours = plt.cm.tab10(np.linspace(0, 1, 9))\n",
        "\n",
        "fig = plt.figure(figsize = (14, 9))\n",
        "plt.fill_between(trainSizes, trainScoresMean - trainScoresStd,\n",
        "    trainScoresMean + trainScoresStd, alpha=0.1, color=colours[0])\n",
        "plt.fill_between(trainSizes, crossValScoresMean - crossValScoresStd,\n",
        "    crossValScoresMean + crossValScoresStd, alpha=0.1, color=colours[1])\n",
        "plt.plot(trainSizes, trainScores.mean(axis = 1), 'o-', label = 'train', \\\n",
        "         color = colours[0])\n",
        "plt.plot(trainSizes, crossValScores.mean(axis = 1), 'o-', label = 'cross-val', \\\n",
        "         color = colours[1])\n",
        "\n",
        "ax = plt.gca()\n",
        "for axis in ['top','bottom','left','right']:\n",
        "    ax.spines[axis].set_linewidth(2)\n",
        "\n",
        "handles, labels = ax.get_legend_handles_labels()\n",
        "plt.legend(handles, ['train', 'cross-val'], bbox_to_anchor=(0.8, 0.15), \\\n",
        "               loc=2, borderaxespad=0, fontsize = 16);\n",
        "plt.xlabel('training set size', size = 16); \n",
        "plt.ylabel('AUPRC', size = 16)\n",
        "plt.title('Learning curves indicate slightly underfit model', size = 20);"
      ],
      "metadata": {
        "colab": {
          "base_uri": "https://localhost:8080/",
          "height": 577
        },
        "id": "eK-i2t_xbqP6",
        "outputId": "e22d88c0-a573-4bef-e259-9ef805461ad6"
      },
      "execution_count": null,
      "outputs": [
        {
          "output_type": "display_data",
          "data": {
            "text/plain": [
              "<Figure size 1008x648 with 1 Axes>"
            ],
            "image/png": "[encoded data removed]"
          },
          "metadata": {
            "needs_background": "light"
          }
        }
      ]
    },
    {
      "cell_type": "markdown",
      "source": [
        "While updating infrastructure, company should take care while cashing out money by customer. Company can build a system to check previous transaction types and amount before customer cashes out money from account. Based on that company can warn customers. Company can inhance security by two-factor authentication. \n",
        "\n",
        "\n",
        "\n",
        "\n",
        "\n",
        "If authentication fails, transaction details can be \n",
        "logged under alerted zone where necessary actions can be taken soon."
      ],
      "metadata": {
        "id": "d1-oIsm_lTDw"
      }
    }
  ]
}